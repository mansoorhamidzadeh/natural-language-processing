{
 "cells": [
  {
   "cell_type": "code",
   "execution_count": 255,
   "outputs": [],
   "source": [
    "import nltk\n",
    "import hazm\n",
    "import numpy as np\n",
    "import pandas\n",
    "import pandas as pd\n",
    "from farsi_tools import stop_words\n",
    "from hazm import word_tokenize,sent_tokenize,Lemmatizer,Stemmer\n",
    "import re\n",
    "import numpy as np\n",
    "lem=Lemmatizer()\n",
    "stem=Stemmer()"
   ],
   "metadata": {
    "collapsed": false,
    "ExecuteTime": {
     "end_time": "2023-09-15T11:37:06.370426200Z",
     "start_time": "2023-09-15T11:37:05.274677700Z"
    }
   }
  },
  {
   "cell_type": "code",
   "execution_count": 274,
   "outputs": [
    {
     "data": {
      "text/plain": "                                                    text  \\\n0      طبق گزارش بنیاد تامسون رویترز، یک فعال حقوق دی...   \n1      گروهی از محققان فیسبوک در همکاری با پزشکان Lan...   \n2      شرکت دستگاه‌های رابط مغزی ایلان ماسک با نام «ن...   \n3      دانشمندان دانشگاه واویک با استفاده از هوش مصنو...   \n4      پس از یک سال فعالیت بدون سروصدا در زمینه‌ی پیو...   \n...                                                  ...   \n10329  همه به تصاویر قبل و بعد علاقه‌ی خاصی نشان می‌د...   \n10330  طولانی‌ترین پل معلق شیشه‌ای جهان که در یکی از ...   \n10331  شبکه‌ی NBC برای اینکه مردم بتوانند بدون سردرگم...   \n10332  زندگی روزمره، ما را گرفتار تکرار می‌کند؛ روزها...   \n10333                                                  \u001A   \n\n                                                    tags  \n0                                             تشخیص چهره  \n1                                             هوش مصنوعی  \n2          ایلان ماسک,فعالیت مغزی,مغز انسان,مهندسی پزشکی  \n3      تلسکوپ فضایی,تلسکوپ کپلر,سیاره فراخورشیدی,هوش ...  \n4          ایلان ماسک,فعالیت مغزی,مغز انسان,مهندسی پزشکی  \n...                                                  ...  \n10329                                                NaN  \n10330                                                NaN  \n10331                                           تلویزیون  \n10332                                          کیسه خواب  \n10333                                                NaN  \n\n[10334 rows x 2 columns]",
      "text/html": "<div>\n<style scoped>\n    .dataframe tbody tr th:only-of-type {\n        vertical-align: middle;\n    }\n\n    .dataframe tbody tr th {\n        vertical-align: top;\n    }\n\n    .dataframe thead th {\n        text-align: right;\n    }\n</style>\n<table border=\"1\" class=\"dataframe\">\n  <thead>\n    <tr style=\"text-align: right;\">\n      <th></th>\n      <th>text</th>\n      <th>tags</th>\n    </tr>\n  </thead>\n  <tbody>\n    <tr>\n      <th>0</th>\n      <td>طبق گزارش بنیاد تامسون رویترز، یک فعال حقوق دی...</td>\n      <td>تشخیص چهره</td>\n    </tr>\n    <tr>\n      <th>1</th>\n      <td>گروهی از محققان فیسبوک در همکاری با پزشکان Lan...</td>\n      <td>هوش مصنوعی</td>\n    </tr>\n    <tr>\n      <th>2</th>\n      <td>شرکت دستگاه‌های رابط مغزی ایلان ماسک با نام «ن...</td>\n      <td>ایلان ماسک,فعالیت مغزی,مغز انسان,مهندسی پزشکی</td>\n    </tr>\n    <tr>\n      <th>3</th>\n      <td>دانشمندان دانشگاه واویک با استفاده از هوش مصنو...</td>\n      <td>تلسکوپ فضایی,تلسکوپ کپلر,سیاره فراخورشیدی,هوش ...</td>\n    </tr>\n    <tr>\n      <th>4</th>\n      <td>پس از یک سال فعالیت بدون سروصدا در زمینه‌ی پیو...</td>\n      <td>ایلان ماسک,فعالیت مغزی,مغز انسان,مهندسی پزشکی</td>\n    </tr>\n    <tr>\n      <th>...</th>\n      <td>...</td>\n      <td>...</td>\n    </tr>\n    <tr>\n      <th>10329</th>\n      <td>همه به تصاویر قبل و بعد علاقه‌ی خاصی نشان می‌د...</td>\n      <td>NaN</td>\n    </tr>\n    <tr>\n      <th>10330</th>\n      <td>طولانی‌ترین پل معلق شیشه‌ای جهان که در یکی از ...</td>\n      <td>NaN</td>\n    </tr>\n    <tr>\n      <th>10331</th>\n      <td>شبکه‌ی NBC برای اینکه مردم بتوانند بدون سردرگم...</td>\n      <td>تلویزیون</td>\n    </tr>\n    <tr>\n      <th>10332</th>\n      <td>زندگی روزمره، ما را گرفتار تکرار می‌کند؛ روزها...</td>\n      <td>کیسه خواب</td>\n    </tr>\n    <tr>\n      <th>10333</th>\n      <td>\u001A</td>\n      <td>NaN</td>\n    </tr>\n  </tbody>\n</table>\n<p>10334 rows × 2 columns</p>\n</div>"
     },
     "execution_count": 274,
     "metadata": {},
     "output_type": "execute_result"
    }
   ],
   "source": [
    "dataset=pd.read_csv('Corpus/digikala-mag.csv')\n",
    "text=dataset['text'][:10]\n",
    "dataset"
   ],
   "metadata": {
    "collapsed": false,
    "ExecuteTime": {
     "end_time": "2023-09-15T11:52:52.586720900Z",
     "start_time": "2023-09-15T11:52:51.096148400Z"
    }
   }
  },
  {
   "cell_type": "code",
   "execution_count": 302,
   "outputs": [],
   "source": [
    "\n",
    "for i in dataset['text'][:10]:\n",
    "    rex=re.sub('[^\\w]',' ',i)\n",
    "    token=word_tokenize(rex)\n",
    "    token_stop=[word for word in token if word not in stop_words()]\n",
    "    token_stop_stem=[stem.stem(word) for word in token_stop]\n",
    "    token_stop_stem_lem=[lem.lemmatize(word).replace('#',' ') for word in token_stop_stem]"
   ],
   "metadata": {
    "collapsed": false,
    "ExecuteTime": {
     "end_time": "2023-09-15T12:02:35.345471900Z",
     "start_time": "2023-09-15T12:02:34.965630500Z"
    }
   }
  },
  {
   "cell_type": "code",
   "execution_count": 303,
   "outputs": [
    {
     "data": {
      "text/plain": "Empty DataFrame\nColumns: [text, category]\nIndex: []",
      "text/html": "<div>\n<style scoped>\n    .dataframe tbody tr th:only-of-type {\n        vertical-align: middle;\n    }\n\n    .dataframe tbody tr th {\n        vertical-align: top;\n    }\n\n    .dataframe thead th {\n        text-align: right;\n    }\n</style>\n<table border=\"1\" class=\"dataframe\">\n  <thead>\n    <tr style=\"text-align: right;\">\n      <th></th>\n      <th>text</th>\n      <th>category</th>\n    </tr>\n  </thead>\n  <tbody>\n  </tbody>\n</table>\n</div>"
     },
     "execution_count": 303,
     "metadata": {},
     "output_type": "execute_result"
    }
   ],
   "source": [],
   "metadata": {
    "collapsed": false,
    "ExecuteTime": {
     "end_time": "2023-09-15T12:02:35.476957200Z",
     "start_time": "2023-09-15T12:02:35.445665100Z"
    }
   }
  },
  {
   "cell_type": "code",
   "execution_count": null,
   "outputs": [],
   "source": [],
   "metadata": {
    "collapsed": false
   }
  }
 ],
 "metadata": {
  "kernelspec": {
   "display_name": "Python 3",
   "language": "python",
   "name": "python3"
  },
  "language_info": {
   "codemirror_mode": {
    "name": "ipython",
    "version": 2
   },
   "file_extension": ".py",
   "mimetype": "text/x-python",
   "name": "python",
   "nbconvert_exporter": "python",
   "pygments_lexer": "ipython2",
   "version": "2.7.6"
  }
 },
 "nbformat": 4,
 "nbformat_minor": 0
}
