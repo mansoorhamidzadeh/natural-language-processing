{
 "cells": [
  {
   "cell_type": "code",
   "execution_count": 1,
   "outputs": [],
   "source": [
    "import pandas as pd\n",
    "from hazm import Lemmatizer, Stemmer\n",
    "import re\n",
    "from sklearn.preprocessing import LabelEncoder\n",
    "from sklearn.feature_extraction.text import TfidfVectorizer\n",
    "from farsi_tools import stop_words\n",
    "import demoji\n",
    "import pickle\n",
    "import numpy as np\n",
    "from farsi_tools import stop_words\n",
    "from hazm import word_tokenize\n",
    "from string import punctuation\n",
    "from sklearn.model_selection import train_test_split\n",
    "from sklearn.svm import SVC\n",
    "from sklearn.metrics import confusion_matrix,accuracy_score,classification_report\n",
    "from sklearn.naive_bayes import GaussianNB\n",
    "lem = Lemmatizer()\n",
    "ste = Stemmer()"
   ],
   "metadata": {
    "collapsed": false,
    "ExecuteTime": {
     "end_time": "2023-09-23T10:53:13.735041Z",
     "start_time": "2023-09-23T10:53:06.170913Z"
    }
   }
  },
  {
   "cell_type": "markdown",
   "source": [
    "**this is data from twitter with negative or positive**"
   ],
   "metadata": {
    "collapsed": false
   }
  },
  {
   "cell_type": "code",
   "execution_count": 2,
   "metadata": {
    "ExecuteTime": {
     "end_time": "2023-09-23T10:53:13.957913500Z",
     "start_time": "2023-09-23T10:53:13.742036900Z"
    }
   },
   "outputs": [],
   "source": [
    "dataset = pd.read_csv('Corpus/twitter.csv')[:2000]"
   ]
  },
  {
   "cell_type": "markdown",
   "source": [
    "**Droping Null raws and indexing again**"
   ],
   "metadata": {
    "collapsed": false
   }
  },
  {
   "cell_type": "code",
   "execution_count": 3,
   "outputs": [
    {
     "name": "stdout",
     "output_type": "stream",
     "text": [
      "<class 'pandas.core.frame.DataFrame'>\n",
      "RangeIndex: 2000 entries, 0 to 1999\n",
      "Data columns (total 2 columns):\n",
      " #   Column    Non-Null Count  Dtype \n",
      "---  ------    --------------  ----- \n",
      " 0   fulltext  2000 non-null   object\n",
      " 1   label     2000 non-null   int64 \n",
      "dtypes: int64(1), object(1)\n",
      "memory usage: 31.4+ KB\n"
     ]
    }
   ],
   "source": [
    "dataset.info()"
   ],
   "metadata": {
    "collapsed": false,
    "ExecuteTime": {
     "end_time": "2023-09-23T10:53:14.018878500Z",
     "start_time": "2023-09-23T10:53:13.960911300Z"
    }
   }
  },
  {
   "cell_type": "code",
   "execution_count": 4,
   "outputs": [
    {
     "data": {
      "text/plain": "fulltext    0\nlabel       0\ndtype: int64"
     },
     "execution_count": 4,
     "metadata": {},
     "output_type": "execute_result"
    }
   ],
   "source": [
    "dataset.isnull().sum()"
   ],
   "metadata": {
    "collapsed": false,
    "ExecuteTime": {
     "end_time": "2023-09-23T10:53:14.147804400Z",
     "start_time": "2023-09-23T10:53:14.011883600Z"
    }
   }
  },
  {
   "cell_type": "code",
   "execution_count": 5,
   "outputs": [
    {
     "data": {
      "text/plain": "0       0\n1       1\n2       1\n3       1\n4       1\n       ..\n1995    1\n1996    0\n1997    1\n1998    1\n1999    1\nName: label, Length: 2000, dtype: int64"
     },
     "execution_count": 5,
     "metadata": {},
     "output_type": "execute_result"
    }
   ],
   "source": [
    "dataset = dataset.dropna(axis=0)\n",
    "dataset.reset_index(drop=True,inplace=True)\n",
    "dataset['label'].astype(np.int64)"
   ],
   "metadata": {
    "collapsed": false,
    "ExecuteTime": {
     "end_time": "2023-09-23T10:53:14.189781300Z",
     "start_time": "2023-09-23T10:53:14.072848200Z"
    }
   }
  },
  {
   "cell_type": "markdown",
   "source": [
    "**Cleaning Text**"
   ],
   "metadata": {
    "collapsed": false
   }
  },
  {
   "cell_type": "code",
   "execution_count": 6,
   "metadata": {
    "ExecuteTime": {
     "end_time": "2023-09-23T10:53:21.969669300Z",
     "start_time": "2023-09-23T10:53:14.129816800Z"
    }
   },
   "outputs": [],
   "source": [
    "for i, j in dataset.iterrows():\n",
    "    # iterating in row and return index and value\n",
    "    # reading column\n",
    "    t = j['fulltext']\n",
    "    # removing urls from text\n",
    "    text = re.sub(r'([@][\\w]+)', '', t)\n",
    "    # removing english word\n",
    "    text = re.sub('[A-Za-z]', '', text)\n",
    "    # removing external word\n",
    "    text = re.sub('[ ]{2,}', '', text)\n",
    "    # removing sepcial word\n",
    "    text = re.sub(r'[!@#$%^&*(),.?\":{}|<>/«»،؛؟…_\\-+\\\\\\u200c]', '', text)\n",
    "    # removing arabic\n",
    "    text = re.sub(r'[\\u064E-\\u0655\\u06F0-\\u06F9\\u0660-\\u0669]', '', text)\n",
    "    text = re.sub(r'[\\u2600-\\u26FF0-9]', '', text)\n",
    "    # change emoji to feeling\n",
    "    text = demoji.replace(text)\n",
    "    dataset.loc[i] = {'fulltext': ''.join(text), 'label': j['label']}"
   ]
  },
  {
   "cell_type": "code",
   "execution_count": 7,
   "metadata": {
    "ExecuteTime": {
     "end_time": "2023-09-23T10:53:22.041628Z",
     "start_time": "2023-09-23T10:53:21.971669Z"
    }
   },
   "outputs": [
    {
     "data": {
      "text/plain": "fulltext    0\nlabel       0\ndtype: int64"
     },
     "execution_count": 7,
     "metadata": {},
     "output_type": "execute_result"
    }
   ],
   "source": [
    "# detecting null value\n",
    "dataset.isnull().sum()"
   ]
  },
  {
   "cell_type": "code",
   "execution_count": 8,
   "metadata": {
    "ExecuteTime": {
     "end_time": "2023-09-23T10:53:33.750045200Z",
     "start_time": "2023-09-23T10:53:22.018641300Z"
    }
   },
   "outputs": [],
   "source": [
    "#tokeniz,removing stop words,stem,lem\n",
    "for r,i in enumerate(dataset['fulltext']):\n",
    "    # tokenizing\n",
    "    word = word_tokenize(i)\n",
    "    # remove stopwords\n",
    "    word = [i for i in word if i not in stop_words()]\n",
    "    # stemming by using hazm\n",
    "    word = [ste.stem(i) for i in word]\n",
    "    # Lem by using hazm\n",
    "    word = [lem.lemmatize(i).replace('#',' ') for i in word]\n",
    "    # re filling dataset\n",
    "    dataset.loc[r] = {'fulltext': ' '.join(word), 'label': dataset['label'][r]}"
   ]
  },
  {
   "cell_type": "code",
   "execution_count": 9,
   "metadata": {
    "ExecuteTime": {
     "end_time": "2023-09-23T10:53:33.767036Z",
     "start_time": "2023-09-23T10:53:33.752045Z"
    }
   },
   "outputs": [],
   "source": [
    "# separating text and label\n",
    "y = dataset['label']\n",
    "x=dataset['fulltext']"
   ]
  },
  {
   "cell_type": "code",
   "execution_count": 10,
   "metadata": {
    "ExecuteTime": {
     "end_time": "2023-09-23T10:53:33.858126300Z",
     "start_time": "2023-09-23T10:53:33.769035100Z"
    }
   },
   "outputs": [],
   "source": [
    "# splitting dataset for model\n",
    "x_train,x_test,y_train,y_test=train_test_split(x,y,test_size=0.3)"
   ]
  },
  {
   "cell_type": "code",
   "execution_count": 11,
   "metadata": {
    "ExecuteTime": {
     "end_time": "2023-09-23T10:53:34.832566500Z",
     "start_time": "2023-09-23T10:53:33.864122100Z"
    }
   },
   "outputs": [],
   "source": [
    "# encoding labels to 0,1,..\n",
    "encoder = LabelEncoder()\n",
    "y_lab=encoder.fit_transform(y_train)\n",
    "#vectorizing text ngram 1,2,3\n",
    "vec = TfidfVectorizer(sublinear_tf = True,\n",
    "                      use_idf = True, ngram_range = (1, 3))\n",
    "vec.fit(x_train)\n",
    "x_lab=vec.transform(x_train).toarray()"
   ]
  },
  {
   "cell_type": "code",
   "execution_count": 12,
   "metadata": {
    "ExecuteTime": {
     "end_time": "2023-09-23T10:56:57.597396100Z",
     "start_time": "2023-09-23T10:53:34.835565300Z"
    }
   },
   "outputs": [
    {
     "data": {
      "text/plain": "SVC(C=1, kernel='linear')",
      "text/html": "<style>#sk-container-id-1 {color: black;}#sk-container-id-1 pre{padding: 0;}#sk-container-id-1 div.sk-toggleable {background-color: white;}#sk-container-id-1 label.sk-toggleable__label {cursor: pointer;display: block;width: 100%;margin-bottom: 0;padding: 0.3em;box-sizing: border-box;text-align: center;}#sk-container-id-1 label.sk-toggleable__label-arrow:before {content: \"▸\";float: left;margin-right: 0.25em;color: #696969;}#sk-container-id-1 label.sk-toggleable__label-arrow:hover:before {color: black;}#sk-container-id-1 div.sk-estimator:hover label.sk-toggleable__label-arrow:before {color: black;}#sk-container-id-1 div.sk-toggleable__content {max-height: 0;max-width: 0;overflow: hidden;text-align: left;background-color: #f0f8ff;}#sk-container-id-1 div.sk-toggleable__content pre {margin: 0.2em;color: black;border-radius: 0.25em;background-color: #f0f8ff;}#sk-container-id-1 input.sk-toggleable__control:checked~div.sk-toggleable__content {max-height: 200px;max-width: 100%;overflow: auto;}#sk-container-id-1 input.sk-toggleable__control:checked~label.sk-toggleable__label-arrow:before {content: \"▾\";}#sk-container-id-1 div.sk-estimator input.sk-toggleable__control:checked~label.sk-toggleable__label {background-color: #d4ebff;}#sk-container-id-1 div.sk-label input.sk-toggleable__control:checked~label.sk-toggleable__label {background-color: #d4ebff;}#sk-container-id-1 input.sk-hidden--visually {border: 0;clip: rect(1px 1px 1px 1px);clip: rect(1px, 1px, 1px, 1px);height: 1px;margin: -1px;overflow: hidden;padding: 0;position: absolute;width: 1px;}#sk-container-id-1 div.sk-estimator {font-family: monospace;background-color: #f0f8ff;border: 1px dotted black;border-radius: 0.25em;box-sizing: border-box;margin-bottom: 0.5em;}#sk-container-id-1 div.sk-estimator:hover {background-color: #d4ebff;}#sk-container-id-1 div.sk-parallel-item::after {content: \"\";width: 100%;border-bottom: 1px solid gray;flex-grow: 1;}#sk-container-id-1 div.sk-label:hover label.sk-toggleable__label {background-color: #d4ebff;}#sk-container-id-1 div.sk-serial::before {content: \"\";position: absolute;border-left: 1px solid gray;box-sizing: border-box;top: 0;bottom: 0;left: 50%;z-index: 0;}#sk-container-id-1 div.sk-serial {display: flex;flex-direction: column;align-items: center;background-color: white;padding-right: 0.2em;padding-left: 0.2em;position: relative;}#sk-container-id-1 div.sk-item {position: relative;z-index: 1;}#sk-container-id-1 div.sk-parallel {display: flex;align-items: stretch;justify-content: center;background-color: white;position: relative;}#sk-container-id-1 div.sk-item::before, #sk-container-id-1 div.sk-parallel-item::before {content: \"\";position: absolute;border-left: 1px solid gray;box-sizing: border-box;top: 0;bottom: 0;left: 50%;z-index: -1;}#sk-container-id-1 div.sk-parallel-item {display: flex;flex-direction: column;z-index: 1;position: relative;background-color: white;}#sk-container-id-1 div.sk-parallel-item:first-child::after {align-self: flex-end;width: 50%;}#sk-container-id-1 div.sk-parallel-item:last-child::after {align-self: flex-start;width: 50%;}#sk-container-id-1 div.sk-parallel-item:only-child::after {width: 0;}#sk-container-id-1 div.sk-dashed-wrapped {border: 1px dashed gray;margin: 0 0.4em 0.5em 0.4em;box-sizing: border-box;padding-bottom: 0.4em;background-color: white;}#sk-container-id-1 div.sk-label label {font-family: monospace;font-weight: bold;display: inline-block;line-height: 1.2em;}#sk-container-id-1 div.sk-label-container {text-align: center;}#sk-container-id-1 div.sk-container {/* jupyter's `normalize.less` sets `[hidden] { display: none; }` but bootstrap.min.css set `[hidden] { display: none !important; }` so we also need the `!important` here to be able to override the default hidden behavior on the sphinx rendered scikit-learn.org. See: https://github.com/scikit-learn/scikit-learn/issues/21755 */display: inline-block !important;position: relative;}#sk-container-id-1 div.sk-text-repr-fallback {display: none;}</style><div id=\"sk-container-id-1\" class=\"sk-top-container\"><div class=\"sk-text-repr-fallback\"><pre>SVC(C=1, kernel=&#x27;linear&#x27;)</pre><b>In a Jupyter environment, please rerun this cell to show the HTML representation or trust the notebook. <br />On GitHub, the HTML representation is unable to render, please try loading this page with nbviewer.org.</b></div><div class=\"sk-container\" hidden><div class=\"sk-item\"><div class=\"sk-estimator sk-toggleable\"><input class=\"sk-toggleable__control sk-hidden--visually\" id=\"sk-estimator-id-1\" type=\"checkbox\" checked><label for=\"sk-estimator-id-1\" class=\"sk-toggleable__label sk-toggleable__label-arrow\">SVC</label><div class=\"sk-toggleable__content\"><pre>SVC(C=1, kernel=&#x27;linear&#x27;)</pre></div></div></div></div></div>"
     },
     "execution_count": 12,
     "metadata": {},
     "output_type": "execute_result"
    }
   ],
   "source": [
    "# defining our model\n",
    "clas=SVC(C=1,kernel='linear')\n",
    "clas.fit(x_lab,y_lab)\n"
   ]
  },
  {
   "cell_type": "code",
   "execution_count": 13,
   "outputs": [],
   "source": [
    "# test model with test data\n",
    "x_test_vec=vec.transform(x_test).toarray()\n",
    "y_test_enc=encoder.transform(y_test)\n",
    "y_pred=clas.predict(x_test_vec)"
   ],
   "metadata": {
    "collapsed": false,
    "ExecuteTime": {
     "end_time": "2023-09-23T10:57:41.977484300Z",
     "start_time": "2023-09-23T10:56:57.600395500Z"
    }
   }
  },
  {
   "cell_type": "code",
   "execution_count": 14,
   "outputs": [
    {
     "name": "stdout",
     "output_type": "stream",
     "text": [
      "accuracy :0.88\n",
      " confusion_matrix [[244  52]\n",
      " [ 20 284]]\n",
      " report              precision    recall  f1-score   support\n",
      "\n",
      "           0       0.92      0.82      0.87       296\n",
      "           1       0.85      0.93      0.89       304\n",
      "\n",
      "    accuracy                           0.88       600\n",
      "   macro avg       0.88      0.88      0.88       600\n",
      "weighted avg       0.88      0.88      0.88       600\n",
      "\n"
     ]
    }
   ],
   "source": [
    "print(f\"accuracy :{accuracy_score(y_test,y_pred)}\\n\",f'confusion_matrix {confusion_matrix(y_test,y_pred)}\\n',f'report{classification_report(y_test,y_pred)}' )"
   ],
   "metadata": {
    "collapsed": false,
    "ExecuteTime": {
     "end_time": "2023-09-23T10:57:42.039449Z",
     "start_time": "2023-09-23T10:57:41.983480600Z"
    }
   }
  },
  {
   "cell_type": "code",
   "execution_count": 15,
   "outputs": [
    {
     "name": "stdout",
     "output_type": "stream",
     "text": [
      "0.9366666666666666\n"
     ]
    }
   ],
   "source": [
    "gnb=GaussianNB(var_smoothing=10)\n",
    "gnb.fit(x_lab,y_lab)\n",
    "g_p=gnb.predict(x_test_vec)\n",
    "g_p=gnb.predict(x_test_vec)\n",
    "print(accuracy_score(y_pred,g_p))"
   ],
   "metadata": {
    "collapsed": false,
    "ExecuteTime": {
     "end_time": "2023-09-23T10:57:46.721327400Z",
     "start_time": "2023-09-23T10:57:42.040449500Z"
    }
   }
  },
  {
   "cell_type": "code",
   "execution_count": 20,
   "outputs": [],
   "source": [
    "pickle.dump(clas, open(\"12.pkl\", \"wb\"))"
   ],
   "metadata": {
    "collapsed": false,
    "ExecuteTime": {
     "end_time": "2023-09-23T10:58:55.083938700Z",
     "start_time": "2023-09-23T10:58:53.338185300Z"
    }
   }
  },
  {
   "cell_type": "code",
   "execution_count": 24,
   "outputs": [],
   "source": [
    "def predict(text):\n",
    "    text = re.sub(r'([@][\\w]+)', '', text)\n",
    "    text = re.sub('[A-Za-z]', '', text)\n",
    "    text = re.sub('[ ]{2,}', '', text)\n",
    "    text = re.sub(r'[!@#$%^&*(),.?\":{}|<>/«»،؛؟…_\\-+\\\\\\u200c]', '', text)\n",
    "    text = re.sub(r'[\\u064E-\\u0655\\u06F0-\\u06F9\\u0660-\\u0669]', '', text)\n",
    "    text = re.sub(r'[\\u2600-\\u26FF0-9]', '', text)\n",
    "    text = demoji.replace(text)\n",
    "    word = word_tokenize(text)\n",
    "    word = [i for i in word if i not in stop_words()]\n",
    "    word = [ste.stem(i) for i in word]\n",
    "    word = [lem.lemmatize(i).replace('#',' ') for i in word]\n",
    "    word =' '.join(word)\n",
    "    vect    =vec.transform([word]).toarray()\n",
    "    predicted=clas.predict(vect)\n",
    "    if predicted==1:\n",
    "        return 'negative'\n",
    "    else:\n",
    "        return 'positive'\n"
   ],
   "metadata": {
    "collapsed": false,
    "ExecuteTime": {
     "end_time": "2023-09-23T11:00:16.490020400Z",
     "start_time": "2023-09-23T11:00:16.075799Z"
    }
   }
  },
  {
   "cell_type": "code",
   "execution_count": 25,
   "outputs": [
    {
     "data": {
      "text/plain": "'negative'"
     },
     "execution_count": 25,
     "metadata": {},
     "output_type": "execute_result"
    }
   ],
   "source": [
    "text=' همچنان دارین به آشغال بودنتون ادامه میدین شما دوتا؟'\n",
    "predict(text)"
   ],
   "metadata": {
    "collapsed": false,
    "ExecuteTime": {
     "end_time": "2023-09-23T11:00:17.867977Z",
     "start_time": "2023-09-23T11:00:17.789022900Z"
    }
   }
  },
  {
   "cell_type": "code",
   "execution_count": 19,
   "outputs": [],
   "source": [
    "save=pickle.dump(clas,open('digi.pk','wb'))"
   ],
   "metadata": {
    "collapsed": false,
    "ExecuteTime": {
     "end_time": "2023-09-23T10:57:51.201741600Z",
     "start_time": "2023-09-23T10:57:49.075340700Z"
    }
   }
  },
  {
   "cell_type": "code",
   "execution_count": 19,
   "outputs": [],
   "source": [],
   "metadata": {
    "collapsed": false,
    "ExecuteTime": {
     "end_time": "2023-09-23T10:57:51.216733400Z",
     "start_time": "2023-09-23T10:57:51.203740100Z"
    }
   }
  }
 ],
 "metadata": {
  "kernelspec": {
   "display_name": "Python 3 (ipykernel)",
   "language": "python",
   "name": "python3"
  },
  "language_info": {
   "codemirror_mode": {
    "name": "ipython",
    "version": 3
   },
   "file_extension": ".py",
   "mimetype": "text/x-python",
   "name": "python",
   "nbconvert_exporter": "python",
   "pygments_lexer": "ipython3",
   "version": "3.10.0"
  }
 },
 "nbformat": 4,
 "nbformat_minor": 1
}
